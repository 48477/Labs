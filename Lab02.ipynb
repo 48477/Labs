{
 "cells": [
  {
   "cell_type": "markdown",
   "metadata": {},
   "source": [
    "1. Construct a list (shoppingList) including 'potatoes', 'carrots', 'cod' and 'sprouts’"
   ]
  },
  {
   "cell_type": "code",
   "execution_count": 13,
   "metadata": {},
   "outputs": [
    {
     "name": "stdout",
     "output_type": "stream",
     "text": [
      "['potatoes', 'carrots', 'cod', 'sprouts']\n"
     ]
    }
   ],
   "source": [
    "#ex.1\n",
    "shoppingList = ['potatoes','carrots','cod','sprouts']\n",
    "print(shoppingList)"
   ]
  },
  {
   "cell_type": "markdown",
   "metadata": {},
   "source": [
    "2. Get the second and the last element of the list"
   ]
  },
  {
   "cell_type": "code",
   "execution_count": 16,
   "metadata": {},
   "outputs": [
    {
     "name": "stdout",
     "output_type": "stream",
     "text": [
      "O segundo elemento é carrots\n",
      "O último elemento é sprouts\n"
     ]
    }
   ],
   "source": [
    "print(\"O segundo elemento é \" + shoppingList[1])\n",
    "print(\"O último elemento é \" + shoppingList[-1])"
   ]
  },
  {
   "cell_type": "markdown",
   "metadata": {},
   "source": [
    "3. Iterate though the list"
   ]
  },
  {
   "cell_type": "code",
   "execution_count": 20,
   "metadata": {},
   "outputs": [
    {
     "name": "stdout",
     "output_type": "stream",
     "text": [
      "potatoes\n",
      "carrots\n",
      "cod\n",
      "sprouts\n"
     ]
    }
   ],
   "source": [
    "for purchase in shoppingList:\n",
    "    print(purchase)"
   ]
  },
  {
   "cell_type": "markdown",
   "metadata": {},
   "source": [
    "4. Create a new list (studentList)"
   ]
  },
  {
   "cell_type": "code",
   "execution_count": 21,
   "metadata": {},
   "outputs": [],
   "source": [
    "studentList = ['Mariana', 'Patrícia', 'João']"
   ]
  },
  {
   "cell_type": "markdown",
   "metadata": {},
   "source": [
    "5. Add the following elements to the shoppingList: orange and lime"
   ]
  },
  {
   "cell_type": "code",
   "execution_count": 23,
   "metadata": {},
   "outputs": [
    {
     "name": "stdout",
     "output_type": "stream",
     "text": [
      "['potatoes', 'carrots', 'cod', 'sprouts', 'orange', 'lime']\n"
     ]
    }
   ],
   "source": [
    "shoppingList.append('orange')\n",
    "shoppingList.append('lime')\n",
    "print(shoppingList)"
   ]
  },
  {
   "cell_type": "markdown",
   "metadata": {},
   "source": [
    "6. Remove the carrots, the first element and last element of the shoppingList list"
   ]
  },
  {
   "cell_type": "code",
   "execution_count": 24,
   "metadata": {},
   "outputs": [
    {
     "name": "stdout",
     "output_type": "stream",
     "text": [
      "['cod', 'sprouts', 'orange']\n"
     ]
    }
   ],
   "source": [
    "shoppingList.remove('carrots')\n",
    "shoppingList.pop()\n",
    "del shoppingList[0]\n",
    "print(shoppingList)"
   ]
  },
  {
   "cell_type": "markdown",
   "metadata": {},
   "source": [
    "7. Delete the student list"
   ]
  },
  {
   "cell_type": "code",
   "execution_count": 25,
   "metadata": {},
   "outputs": [],
   "source": [
    "del studentList"
   ]
  },
  {
   "cell_type": "markdown",
   "metadata": {},
   "source": [
    "8. Create a list with the double values os number between 1 and 15"
   ]
  },
  {
   "cell_type": "code",
   "execution_count": 27,
   "metadata": {},
   "outputs": [
    {
     "name": "stdout",
     "output_type": "stream",
     "text": [
      "[2, 4, 6, 8, 10, 12, 14, 16, 18, 20, 22, 24, 26, 28]\n"
     ]
    }
   ],
   "source": [
    "numList = [2*x for x in range(1,15)]\n",
    "print(numList)"
   ]
  },
  {
   "cell_type": "markdown",
   "metadata": {},
   "source": [
    "9. Obtain the first 3 elements of the list"
   ]
  },
  {
   "cell_type": "code",
   "execution_count": 28,
   "metadata": {},
   "outputs": [
    {
     "name": "stdout",
     "output_type": "stream",
     "text": [
      "[2, 4, 6]\n"
     ]
    }
   ],
   "source": [
    "primeirosTres = numList[:3]\n",
    "print(primeirosTres)"
   ]
  },
  {
   "cell_type": "markdown",
   "metadata": {},
   "source": [
    "10. What is the result of, Why?\n",
    "shopping = shoppingList\n",
    "shoppingListCopy = shoppingList[:]\n",
    "print(shopping)"
   ]
  },
  {
   "cell_type": "code",
   "execution_count": 29,
   "metadata": {},
   "outputs": [
    {
     "name": "stdout",
     "output_type": "stream",
     "text": [
      "['cod', 'sprouts', 'orange']\n"
     ]
    }
   ],
   "source": [
    "shopping = shoppingList\n",
    "shoppingListCopy = shoppingList[:]\n",
    "print(shopping)"
   ]
  },
  {
   "cell_type": "markdown",
   "metadata": {},
   "source": [
    "11. What is the result of, Why?\n",
    "shopping = shoppingList\n",
    "shoppingList.append(\"orange\")\n",
    "print(shopping)"
   ]
  },
  {
   "cell_type": "code",
   "execution_count": 30,
   "metadata": {},
   "outputs": [
    {
     "name": "stdout",
     "output_type": "stream",
     "text": [
      "['cod', 'sprouts', 'orange', 'orange']\n"
     ]
    }
   ],
   "source": [
    "shopping = shoppingList\n",
    "shoppingList.append(\"orange\")\n",
    "print(shopping)"
   ]
  },
  {
   "cell_type": "markdown",
   "metadata": {},
   "source": [
    "12. Remove all the items from the shoppingList"
   ]
  },
  {
   "cell_type": "code",
   "execution_count": 33,
   "metadata": {},
   "outputs": [
    {
     "name": "stdout",
     "output_type": "stream",
     "text": [
      "[]\n"
     ]
    }
   ],
   "source": [
    "del shoppingList[:]\n",
    "print(shoppingList)"
   ]
  },
  {
   "cell_type": "markdown",
   "metadata": {},
   "source": [
    "13. What is the result of, Why?\n",
    "newPurchases= ('bananas','beans','rice')\n",
    "print (newPurchases [1])\n",
    "newPurchases [0] = \"apple\""
   ]
  },
  {
   "cell_type": "code",
   "execution_count": 37,
   "metadata": {},
   "outputs": [
    {
     "name": "stdout",
     "output_type": "stream",
     "text": [
      "beans\n"
     ]
    },
    {
     "ename": "TypeError",
     "evalue": "'tuple' object does not support item assignment",
     "output_type": "error",
     "traceback": [
      "\u001b[1;31m---------------------------------------------------------------------------\u001b[0m",
      "\u001b[1;31mTypeError\u001b[0m                                 Traceback (most recent call last)",
      "\u001b[1;32m<ipython-input-37-b4a8367c11cb>\u001b[0m in \u001b[0;36m<module>\u001b[1;34m\u001b[0m\n\u001b[0;32m      1\u001b[0m \u001b[0mnewPurchases\u001b[0m\u001b[1;33m=\u001b[0m \u001b[1;33m(\u001b[0m\u001b[1;34m'bananas'\u001b[0m\u001b[1;33m,\u001b[0m \u001b[1;34m'beans'\u001b[0m\u001b[1;33m,\u001b[0m \u001b[1;34m'rice'\u001b[0m\u001b[1;33m)\u001b[0m\u001b[1;33m\u001b[0m\u001b[1;33m\u001b[0m\u001b[0m\n\u001b[0;32m      2\u001b[0m \u001b[0mprint\u001b[0m \u001b[1;33m(\u001b[0m\u001b[0mnewPurchases\u001b[0m\u001b[1;33m[\u001b[0m\u001b[1;36m1\u001b[0m\u001b[1;33m]\u001b[0m\u001b[1;33m)\u001b[0m\u001b[1;33m\u001b[0m\u001b[1;33m\u001b[0m\u001b[0m\n\u001b[1;32m----> 3\u001b[1;33m \u001b[0mnewPurchases\u001b[0m\u001b[1;33m[\u001b[0m\u001b[1;36m0\u001b[0m\u001b[1;33m]\u001b[0m \u001b[1;33m=\u001b[0m \u001b[1;34m'apple'\u001b[0m\u001b[1;33m\u001b[0m\u001b[1;33m\u001b[0m\u001b[0m\n\u001b[0m",
      "\u001b[1;31mTypeError\u001b[0m: 'tuple' object does not support item assignment"
     ]
    }
   ],
   "source": [
    "newPurchases = ('bananas', 'beans', 'rice')\n",
    "print (newPurchases[1])\n",
    "newPurchases[0] = 'apple'"
   ]
  },
  {
   "cell_type": "code",
   "execution_count": null,
   "metadata": {},
   "outputs": [],
   "source": [
    "#Dá erro porque como é Tuple os dados não podem ser modificados"
   ]
  },
  {
   "cell_type": "markdown",
   "metadata": {},
   "source": [
    "15. Create a dictionary including the follwoing elements: orange, apple, pear, grape and peach. Key are 1 to 5.\n",
    "    Iterate through key-value pair"
   ]
  },
  {
   "cell_type": "code",
   "execution_count": 40,
   "metadata": {},
   "outputs": [
    {
     "name": "stdout",
     "output_type": "stream",
     "text": [
      "The fruit 1 is orange\n",
      "The fruit 2 is apple\n",
      "The fruit 3 is pear\n",
      "The fruit 4 is grape\n",
      "The fruit 5 is peach\n"
     ]
    }
   ],
   "source": [
    "fruit = {1:'orange',2:'apple',3:'pear',4:'grape',5:'peach'}\n",
    "for key, value in fruit.items():\n",
    "    print('The fruit ' + str(key) + ' is ' + value)"
   ]
  },
  {
   "cell_type": "markdown",
   "metadata": {},
   "source": [
    "16. Create a weekList that is composed of several lists, each one corresponding to a day."
   ]
  },
  {
   "cell_type": "code",
   "execution_count": 8,
   "metadata": {},
   "outputs": [
    {
     "name": "stdout",
     "output_type": "stream",
     "text": [
      "Na monday deves comprar orange\n",
      "Na tuesday deves comprar apple\n",
      "Na wednesday deves comprar pear\n",
      "Na thursday deves comprar grape\n",
      "Na friday deves comprar peach\n"
     ]
    }
   ],
   "source": [
    "fruit = ['orange','apple','pear','grape','peach']\n",
    "week = ['monday', 'tuesday', 'wednesday','thursday','friday','saturday','sunday']\n",
    "for (a,b) in zip (week,fruit):\n",
    "    print('Na ' + a + ' deves comprar ' + b)"
   ]
  },
  {
   "cell_type": "code",
   "execution_count": null,
   "metadata": {},
   "outputs": [],
   "source": []
  }
 ],
 "metadata": {
  "kernelspec": {
   "display_name": "Python 3",
   "language": "python",
   "name": "python3"
  },
  "language_info": {
   "codemirror_mode": {
    "name": "ipython",
    "version": 3
   },
   "file_extension": ".py",
   "mimetype": "text/x-python",
   "name": "python",
   "nbconvert_exporter": "python",
   "pygments_lexer": "ipython3",
   "version": "3.7.3"
  }
 },
 "nbformat": 4,
 "nbformat_minor": 2
}
